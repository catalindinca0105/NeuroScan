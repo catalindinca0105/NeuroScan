{
 "cells": [
  {
   "cell_type": "code",
   "execution_count": null,
   "id": "f7c7010f",
   "metadata": {},
   "outputs": [],
   "source": [
    "!pip install opencv-python --user"
   ]
  },
  {
   "cell_type": "code",
   "execution_count": null,
   "id": "b40a9f54",
   "metadata": {},
   "outputs": [],
   "source": [
    "import numpy as np\n",
    "import pandas as pd\n",
    "import matplotlib.pyplot as plt\n",
    "from sklearn.model_selection import train_test_split\n",
    "from sklearn.metrics import accuracy_score"
   ]
  },
  {
   "cell_type": "code",
   "execution_count": null,
   "id": "71afdf8d",
   "metadata": {},
   "outputs": [],
   "source": [
    "import numpy as np\n",
    "import pandas as pd\n",
    "import matplotlib.pyplot as plt\n",
    "from sklearn.model_selection import train_test_split\n",
    "from sklearn.metrics import accuracy_score\n",
    "from glob import glob\n",
    "from PIL import Image\n",
    "from numpy import asarray"
   ]
  },
  {
   "cell_type": "code",
   "execution_count": null,
   "id": "d3071a82",
   "metadata": {},
   "outputs": [],
   "source": [
    "dirct ='../Brain-Tumor-Prediction'"
   ]
  },
  {
   "cell_type": "code",
   "execution_count": null,
   "id": "d3a7c3fd",
   "metadata": {},
   "outputs": [],
   "source": [
    "import os\n",
    "path = os.listdir(dirct+'/Brain_Tumor_Data')\n",
    "classes = {'no_tumor':0, 'pituitary_tumor':1}"
   ]
  },
  {
   "cell_type": "code",
   "execution_count": null,
   "id": "fae456ec",
   "metadata": {},
   "outputs": [],
   "source": [
    "no_tumor_frompath= dirct+'/Brain_Tumor_Data/Training/no_tumor'\n",
    "no_tumor_topath = dirct+'/Brain_Tumor_Data/Agumented_Data/Training/no_tumor/'\n",
    "no_tumor_images=glob(no_tumor_frompath+'/*')\n",
    "c=0\n",
    "for path in no_tumor_images:\n",
    "  img=Image.open(path)\n",
    "  img=img.resize((224,224))\n",
    "  img.save(no_tumor_topath+str(c)+'.jpg')\n",
    "  c+=1\n",
    "  mirimg=img.transpose(Image.FLIP_LEFT_RIGHT)\n",
    "  mirimg.save(no_tumor_topath+str(c)+'.jpg')\n",
    "  c+=1\n",
    "  rotimg=img.rotate(90,Image.NEAREST, expand = 1)\n",
    "  rotimg.save(no_tumor_topath+str(c)+'.jpg')\n",
    "  c+=1\n",
    "  mirrotimg=rotimg.transpose(Image.FLIP_LEFT_RIGHT)\n",
    "  mirrotimg.save(no_tumor_topath+str(c)+'.jpg')\n",
    "  c+=1"
   ]
  },
  {
   "cell_type": "code",
   "execution_count": null,
   "id": "386c29d2",
   "metadata": {},
   "outputs": [],
   "source": [
    "frompath = dirct+'Brain_Tumor_Data/Training/pituitary_tumor'\n",
    "topath = dirct+'Brain_Tumor_Data/Agumented_Data/Training/pituitary_tumor/'\n",
    "images=glob(frompath+'/*')\n",
    "c=0\n",
    "for path in images:\n",
    "  img=Image.open(path)\n",
    "  img=img.resize((224,224))\n",
    "  img.save(topath+str(c)+'.jpg')\n",
    "  c+=1\n",
    "  mirimg=img.transpose(Image.FLIP_LEFT_RIGHT)\n",
    "  mirimg.save(topath+str(c)+'.jpg')\n",
    "  c+=1\n",
    "  rotimg=img.rotate(90,Image.NEAREST, expand = 1)\n",
    "  rotimg.save(topath+str(c)+'.jpg')\n",
    "  c+=1\n",
    "  mirrotimg=rotimg.transpose(Image.FLIP_LEFT_RIGHT)\n",
    "  mirrotimg.save(topath+str(c)+'.jpg')\n",
    "  c+=1"
   ]
  },
  {
   "cell_type": "code",
   "execution_count": null,
   "id": "3bf4990b",
   "metadata": {},
   "outputs": [],
   "source": [
    "import cv2\n",
    "X=[]\n",
    "Y=[]\n",
    "for cls in classes:\n",
    "  pth = dirct+'/Brain_Tumor_Data/Agumented_Data/Training/'+cls\n",
    "  for j in os.listdir(pth):\n",
    "    img = cv2.imread(pth+'/'+j)   \n",
    "    # img = cv2.resize(img,dsize=(224,224))\n",
    "    X.append(img)\n",
    "    Y.append(classes[cls])"
   ]
  },
  {
   "cell_type": "code",
   "execution_count": null,
   "id": "64f33ed9",
   "metadata": {},
   "outputs": [],
   "source": [
    "plt.imshow(X[0],cmap='gray')"
   ]
  },
  {
   "cell_type": "code",
   "execution_count": null,
   "id": "796c4237",
   "metadata": {},
   "outputs": [],
   "source": [
    "x_train,x_test,y_train,y_test=train_test_split(X,Y,random_state=40,test_size=0.20)\n",
    "print (\"Shape of an image in x_train: \", x_train[0].shape)\n",
    "print (\"Shape of an image in x_test: \", x_test[0].shape)"
   ]
  },
  {
   "cell_type": "code",
   "execution_count": null,
   "id": "958606fc",
   "metadata": {},
   "outputs": [],
   "source": [
    "from sklearn import preprocessing\n",
    "import tensorflow as tf\n",
    "le = preprocessing.LabelEncoder()\n",
    "y_train = le.fit_transform(y_train)\n",
    "y_test = le.fit_transform(y_test)\n",
    "y_train = tf.keras.utils.to_categorical(y_train, num_classes=2)\n",
    "y_test = tf.keras.utils.to_categorical(y_test, num_classes=2)\n",
    "y_train = np.array(y_train)\n",
    "x_train = np.array(x_train)\n",
    "y_test = np.array(y_test)\n",
    "x_test = np.array(x_test) \n",
    "print(\"x_train Shape: \", x_train.shape) \n",
    "print(\"x_test Shape: \", x_test.shape)\n",
    "print(\"y_train Shape: \", y_train.shape) \n",
    "print(\"y_test Shape: \", y_test.shape)"
   ]
  },
  {
   "cell_type": "code",
   "execution_count": null,
   "id": "416ae972",
   "metadata": {},
   "outputs": [],
   "source": [
    "from keras.applications import vgg16\n",
    "\n",
    "img_rows,img_cols=224,224\n",
    "\n",
    "vgg=vgg16.VGG16(weights='imagenet', include_top=False, input_shape=(img_rows,img_cols,3))"
   ]
  },
  {
   "cell_type": "code",
   "execution_count": null,
   "id": "22ee074c",
   "metadata": {},
   "outputs": [],
   "source": [
    "for layer in vgg.layers:\n",
    "  layer.trainable=False\n"
   ]
  },
  {
   "cell_type": "code",
   "execution_count": null,
   "id": "4ce5bc4a",
   "metadata": {},
   "outputs": [],
   "source": [
    "from keras.layers.pooling.global_average_pooling2d import GlobalAveragePooling2D\n",
    "def lw(bottom_model,num_classes):\n",
    "  top_model=bottom_model.output\n",
    "  top_model=GlobalAveragePooling2D()(top_model)\n",
    "  top_model=Dense(1024,activation='relu')(top_model)\n",
    "  top_model=Dense(1024,activation='relu')(top_model)\n",
    "  top_model=Dense(512,activation='relu')(top_model)\n",
    "  top_model=Dense(num_classes,activation='softmax')(top_model)\n",
    "  return top_model"
   ]
  },
  {
   "cell_type": "code",
   "execution_count": null,
   "id": "27c15116",
   "metadata": {},
   "outputs": [],
   "source": [
    "from keras.models import Sequential\n",
    "from keras.layers import Dense,Dropout,Activation,Flatten,GlobalAveragePooling2D\n",
    "from keras.layers import Conv2D,MaxPooling2D,ZeroPadding2D\n",
    "from keras.models import Model"
   ]
  },
  {
   "cell_type": "code",
   "execution_count": null,
   "id": "7871d8cb",
   "metadata": {},
   "outputs": [],
   "source": [
    "import tempfile\n",
    "\n",
    "def make_keras_picklable():\n",
    "    def __getstate__(self):\n",
    "        model_str = \"\"\n",
    "        with tempfile.NamedTemporaryFile(suffix='.hdf5', delete=True) as fd:\n",
    "            save_model(self, fd.name, overwrite=True)\n",
    "            model_str = fd.read()\n",
    "        d = {'model_str': model_str}\n",
    "        return d\n",
    "\n",
    "    def __setstate__(self, state):\n",
    "        with tempfile.NamedTemporaryFile(suffix='.hdf5', delete=True) as fd:\n",
    "            fd.write(state['model_str'])\n",
    "            fd.flush()\n",
    "            model = load_model(fd.name)\n",
    "        self.__dict__ = model.__dict__\n",
    "\n",
    "\n",
    "    cls = Model\n",
    "    cls.__getstate__ = __getstate__\n",
    "    cls.__setstate__ = __setstate__\n"
   ]
  },
  {
   "cell_type": "code",
   "execution_count": null,
   "id": "86aae42a",
   "metadata": {},
   "outputs": [],
   "source": [
    "make_keras_picklable()"
   ]
  },
  {
   "cell_type": "code",
   "execution_count": null,
   "id": "08689dab",
   "metadata": {},
   "outputs": [],
   "source": [
    "num_classes=2\n",
    "FC_Head=lw(vgg,num_classes)\n",
    "model=Model(inputs=vgg.input,outputs=FC_Head)\n",
    "print(model.summary())"
   ]
  },
  {
   "cell_type": "code",
   "execution_count": null,
   "id": "76686499",
   "metadata": {},
   "outputs": [],
   "source": [
    "from tensorflow.keras.models import Model\n",
    "model.compile(optimizer='adam',loss='categorical_crossentropy',metrics=['accuracy'])"
   ]
  },
  {
   "cell_type": "code",
   "execution_count": null,
   "id": "1ed748a1",
   "metadata": {},
   "outputs": [],
   "source": [
    "history=model.fit(x_train,y_train,epochs=5,validation_data=(x_test,y_test),verbose=1,initial_epoch=0)\n"
   ]
  },
  {
   "cell_type": "code",
   "execution_count": null,
   "id": "a6669101",
   "metadata": {},
   "outputs": [],
   "source": [
    "# from sklearn.model_selection import KFold\n",
    "# kf = KFold(n_splits=5, shuffle=True, random_state=42)  # 5 folds for validation\n",
    "# histories = []  # List to store training history for each fold\n",
    "# scores = []  # List to store accuracy scores for each fold\n",
    "\n",
    "# for fold, (train_index, test_index) in enumerate(kf.split(X)):\n",
    "#     print(f\"Fold {fold + 1}\")\n",
    "\n",
    "#     x_train, x_test = np.array(X)[train_index], np.array(X)[test_index]\n",
    "#     y_train, y_test = np.array(Y)[train_index], np.array(Y)[test_index]\n",
    "\n",
    "#     # Convert to NumPy arrays and preprocess labels\n",
    "#     from sklearn import preprocessing\n",
    "#     import tensorflow as tf\n",
    "\n",
    "#     le = preprocessing.LabelEncoder()\n",
    "#     y_train = le.fit_transform(y_train)\n",
    "#     y_test = le.fit_transform(y_test)\n",
    "#     y_train = tf.keras.utils.to_categorical(y_train, num_classes=2)\n",
    "#     y_test = tf.keras.utils.to_categorical(y_test, num_classes=2)\n",
    "\n",
    "#     y_train = np.array(y_train)\n",
    "#     x_train = np.array(x_train)\n",
    "#     y_test = np.array(y_test)\n",
    "#     x_test = np.array(x_test)\n",
    "\n",
    "#     # Train the model for each fold\n",
    "#     history = model.fit(x_train, y_train, epochs=5, validation_data=(x_test, y_test), verbose=1)\n",
    "    \n",
    "#     # Save training history and accuracy score\n",
    "#     histories.append(history)\n",
    "#     score = model.evaluate(x_test, y_test, verbose=0)\n",
    "#     scores.append(score[1])  # Accuracy is at index 1 in `score`\n",
    "\n",
    "# # Display K-Fold scores\n",
    "# print(f\"Fold scores: {scores}\")\n",
    "# print(f\"Average accuracy: {np.mean(scores)}\")\n",
    "\n",
    "# # Visualize training curves for each fold\n",
    "# plt.figure(figsize=(12, 6))\n",
    "\n",
    "# for i, history in enumerate(histories):\n",
    "#     plt.plot(history.history['val_accuracy'], label=f'Fold {i+1} Validation Accuracy')\n",
    "\n",
    "# plt.xlabel('Epochs')\n",
    "# plt.ylabel('Accuracy')\n",
    "# plt.title('Accuracy Evolution Across Folds')\n",
    "# plt.legend()\n",
    "# plt.grid(True)\n",
    "# plt.show()"
   ]
  },
  {
   "cell_type": "code",
   "execution_count": null,
   "id": "68da1be5",
   "metadata": {},
   "outputs": [],
   "source": [
    "plt.figure(1, figsize=(20, 8))\n",
    "\n",
    "# Plot for Loss\n",
    "plt.subplot(1, 2, 1)\n",
    "plt.xlabel(\"Epochs\")\n",
    "plt.ylabel(\"Loss\")\n",
    "plt.plot(history.history[\"loss\"], label=\"Training Loss\")\n",
    "plt.plot(history.history[\"val_loss\"], label=\"Validation Loss\")\n",
    "plt.grid(True)\n",
    "plt.legend()\n",
    "\n",
    "# Plot for Accuracy\n",
    "plt.subplot(1, 2, 2)\n",
    "plt.xlabel(\"Epochs\")\n",
    "plt.ylabel(\"Accuracy\")\n",
    "plt.plot(history.history[\"accuracy\"], label=\"Training Accuracy\")\n",
    "plt.plot(history.history[\"val_accuracy\"], label=\"Validation Accuracy\")\n",
    "plt.grid(True)\n",
    "plt.legend()\n",
    "\n",
    "# Install seaborn if not already installed\n",
    "!pip install seaborn\n",
    "\n",
    "from sklearn.metrics import confusion_matrix, classification_report, accuracy_score\n",
    "import seaborn as sns\n",
    "\n",
    "# Predict labels for the test set\n",
    "y_pred = model.predict(x_test)\n",
    "y_pred_classes = np.argmax(y_pred, axis=1)  # Convert predictions into a single class\n",
    "\n",
    "\n",
    "# Display the confusion matrix\n",
    "cm = confusion_matrix(np.argmax(y_test, axis=1), y_pred_classes)\n",
    "plt.figure(figsize=(8, 6))\n",
    "sns.heatmap(cm, annot=True, fmt=\"d\", cmap=\"Blues\", xticklabels=[\"No Tumor\", \"Pituitary Tumor\"], yticklabels=[\"No Tumor\", \"Pituitary Tumor\"])\n",
    "plt.title(\"Confusion Matrix\")\n",
    "plt.xlabel(\"Predicted\")\n",
    "plt.ylabel(\"True\")\n",
    "plt.show()\n",
    "\n",
    "# Display the classification report (precision, recall, F1-score)\n",
    "print(\"Classification Report:\\n\", classification_report(np.argmax(y_test, axis=1), y_pred_classes))\n",
    "\n",
    "# Display accuracy score\n",
    "accuracy = accuracy_score(np.argmax(y_test, axis=1), y_pred_classes)\n",
    "print(\"Accuracy Score: \", accuracy)"
   ]
  },
  {
   "cell_type": "code",
   "execution_count": null,
   "id": "9ddda4a9",
   "metadata": {},
   "outputs": [],
   "source": [
    "import pickle\n",
    "filename= 'brain_tumor_model.pkl'"
   ]
  },
  {
   "cell_type": "code",
   "execution_count": null,
   "id": "dc7a4bfe",
   "metadata": {},
   "outputs": [],
   "source": [
    "\n",
    "pickle.dump(model,open(filename,'wb'))"
   ]
  },
  {
   "cell_type": "code",
   "execution_count": null,
   "id": "832c931f",
   "metadata": {},
   "outputs": [],
   "source": [
    "load_model = pickle.load(open(filename,'rb'))\n",
    "#load_model.predict(x_test)"
   ]
  },
  {
   "cell_type": "code",
   "execution_count": null,
   "id": "eb10b79f",
   "metadata": {},
   "outputs": [],
   "source": [
    "# MLP for Pima Indians Dataset Serialize to JSON and HDF5\n",
    "from tensorflow.keras.models import model_from_json\n",
    "model_json = model.to_json()\n",
    "with open(\"model.json\", \"w\") as json_file:\n",
    "    json_file.write(model_json)\n",
    "# serialize weights to HDF5\n",
    "model.save_weights(\"model.h5\")"
   ]
  },
  {
   "cell_type": "code",
   "execution_count": null,
   "id": "ea644bd0",
   "metadata": {},
   "outputs": [],
   "source": [
    "json_file = open('model.json', 'r')\n",
    "loaded_model_json = json_file.read()\n",
    "json_file.close()\n",
    "loaded_model = model_from_json(loaded_model_json)\n",
    "# load weights into new model\n",
    "loaded_model.load_weights(\"model.h5\")"
   ]
  },
  {
   "cell_type": "code",
   "execution_count": null,
   "id": "34a350c6",
   "metadata": {},
   "outputs": [],
   "source": [
    "loaded_model.predict(x_test)"
   ]
  },
  {
   "cell_type": "code",
   "execution_count": null,
   "id": "08146434",
   "metadata": {},
   "outputs": [],
   "source": [
    "dec= {0: 'No Tumor', 1:'Positive Tumor'}"
   ]
  },
  {
   "cell_type": "code",
   "execution_count": null,
   "id": "1b7edea1",
   "metadata": {},
   "outputs": [],
   "source": [
    "plt.figure(figsize=(18,12))\n",
    "p=os.listdir('Brain_Tumor_Data/Training/pituitary_tumor')\n",
    "c=1\n",
    "predict_img=[]\n",
    "for i in os.listdir('Brain_Tumor_Data/Training/pituitary_tumor/')[:16]:\n",
    "  plt.subplot(4,4,c)\n",
    "\n",
    "  img=cv2.imread('Brain_Tumor_Data/Training/pituitary_tumor/'+i)\n",
    "  img1 = cv2.resize(img,(224,224))\n",
    "  predict_img.append(img1)\n",
    "  p= load_model.predict(np.array(predict_img))\n",
    "  result = np.argmax(p, axis =1)\n",
    "  plt.title(dec[result[c-1]])\n",
    "  plt.imshow(img,cmap='gray')\n",
    "  plt.axis('off')\n",
    "  c+=1"
   ]
  },
  {
   "cell_type": "code",
   "execution_count": null,
   "id": "4c3d6408",
   "metadata": {
    "scrolled": true
   },
   "outputs": [],
   "source": [
    "plt.figure(figsize=(18,12))\n",
    "p=os.listdir('Brain_Tumor_Data/Training/no_tumor')\n",
    "c=1\n",
    "predict_img=[]\n",
    "for i in os.listdir('Brain_Tumor_Data/Training/no_tumor/')[:16]:\n",
    "  plt.subplot(4,4,c)\n",
    "\n",
    "  img=cv2.imread('Brain_Tumor_Data/Training/no_tumor/'+i)\n",
    "  img1 = cv2.resize(img,(224,224))\n",
    "  predict_img.append(img1)\n",
    "  p= model.predict(np.array(predict_img))\n",
    "  result = np.argmax(p, axis =1)\n",
    "  plt.title(dec[result[c-1]])\n",
    "  plt.imshow(img,cmap='gray')\n",
    "  plt.axis('off')\n",
    "  c+=1"
   ]
  }
 ],
 "metadata": {
  "kernelspec": {
   "display_name": "Python 3",
   "language": "python",
   "name": "python3"
  },
  "language_info": {
   "codemirror_mode": {
    "name": "ipython",
    "version": 3
   },
   "file_extension": ".py",
   "mimetype": "text/x-python",
   "name": "python",
   "nbconvert_exporter": "python",
   "pygments_lexer": "ipython3",
   "version": "3.10.16"
  }
 },
 "nbformat": 4,
 "nbformat_minor": 5
}
